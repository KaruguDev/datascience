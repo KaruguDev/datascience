{
 "cells": [
  {
   "cell_type": "markdown",
   "metadata": {},
   "source": [
    "# Vector Arithmetic"
   ]
  },
  {
   "cell_type": "code",
   "execution_count": 1,
   "metadata": {},
   "outputs": [],
   "source": [
    "import numpy as np"
   ]
  },
  {
   "cell_type": "code",
   "execution_count": 2,
   "metadata": {},
   "outputs": [],
   "source": [
    "import random"
   ]
  },
  {
   "cell_type": "code",
   "execution_count": 3,
   "metadata": {},
   "outputs": [],
   "source": [
    "w = np.array([[5],[1],[7]])\n",
    "x = np.array([2,5,7])\n",
    "y = np.array([[3,6,1],[5,9,2]])"
   ]
  },
  {
   "cell_type": "markdown",
   "metadata": {},
   "source": [
    "## Addition"
   ]
  },
  {
   "cell_type": "code",
   "execution_count": 4,
   "metadata": {},
   "outputs": [
    {
     "name": "stdout",
     "output_type": "stream",
     "text": [
      "[4 7 9]\n"
     ]
    }
   ],
   "source": [
    "#numpy array - x\n",
    "xresult = x + 2\n",
    "print(xresult)"
   ]
  },
  {
   "cell_type": "code",
   "execution_count": 5,
   "metadata": {},
   "outputs": [
    {
     "name": "stdout",
     "output_type": "stream",
     "text": [
      "[[ 8 11  6]\n",
      " [10 14  7]]\n"
     ]
    }
   ],
   "source": [
    "#numpy array - y\n",
    "yresult = y + 5\n",
    "print(yresult)"
   ]
  },
  {
   "cell_type": "code",
   "execution_count": 6,
   "metadata": {},
   "outputs": [
    {
     "name": "stdout",
     "output_type": "stream",
     "text": [
      "[[ 7 10 12]\n",
      " [ 3  6  8]\n",
      " [ 9 12 14]]\n"
     ]
    }
   ],
   "source": [
    "#(3 * 1) + (1 * 3) = (3 * 3)\n",
    "#print(x)\n",
    "#print(w)\n",
    "zresult = x + w\n",
    "print(zresult)"
   ]
  },
  {
   "cell_type": "markdown",
   "metadata": {},
   "source": [
    "## Subtraction"
   ]
  },
  {
   "cell_type": "code",
   "execution_count": 7,
   "metadata": {},
   "outputs": [
    {
     "name": "stdout",
     "output_type": "stream",
     "text": [
      "[[-3  0  2]\n",
      " [ 1  4  6]\n",
      " [-5 -2  0]]\n",
      "------------\n",
      "[[ 3  0 -2]\n",
      " [-1 -4 -6]\n",
      " [ 5  2  0]]\n"
     ]
    }
   ],
   "source": [
    "aresult = x - w\n",
    "bresult = w - x\n",
    "\n",
    "print(aresult)\n",
    "print('------------')\n",
    "print(bresult)"
   ]
  },
  {
   "cell_type": "markdown",
   "metadata": {},
   "source": [
    "## Multiplication"
   ]
  },
  {
   "cell_type": "code",
   "execution_count": 8,
   "metadata": {},
   "outputs": [
    {
     "name": "stdout",
     "output_type": "stream",
     "text": [
      "[[10 25 35]\n",
      " [ 2  5  7]\n",
      " [14 35 49]]\n"
     ]
    }
   ],
   "source": [
    "#hadmond multiplication\n",
    "cresult = x * w\n",
    "print(cresult)"
   ]
  },
  {
   "cell_type": "code",
   "execution_count": 9,
   "metadata": {},
   "outputs": [
    {
     "name": "stdout",
     "output_type": "stream",
     "text": [
      "[64]\n"
     ]
    }
   ],
   "source": [
    "#dot product\n",
    "dresult = np.dot(x,w)\n",
    "print(dresult)"
   ]
  }
 ],
 "metadata": {
  "kernelspec": {
   "display_name": "Python 3",
   "language": "python",
   "name": "python3"
  },
  "language_info": {
   "codemirror_mode": {
    "name": "ipython",
    "version": 3
   },
   "file_extension": ".py",
   "mimetype": "text/x-python",
   "name": "python",
   "nbconvert_exporter": "python",
   "pygments_lexer": "ipython3",
   "version": "3.6.5"
  }
 },
 "nbformat": 4,
 "nbformat_minor": 2
}
