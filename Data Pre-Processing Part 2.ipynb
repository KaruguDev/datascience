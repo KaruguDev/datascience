{
 "cells": [
  {
   "cell_type": "code",
   "execution_count": 1,
   "metadata": {},
   "outputs": [],
   "source": [
    "import numpy as np\n",
    "import pandas as pd\n",
    "import os"
   ]
  },
  {
   "cell_type": "code",
   "execution_count": 2,
   "metadata": {},
   "outputs": [
    {
     "name": "stdout",
     "output_type": "stream",
     "text": [
      "      County  No. of Households  Area in Sq. Km.  Population Density    Male  \\\n",
      "0    MOMBASA             268700             3079               305.1  486924   \n",
      "1      KWALE             122047             1265               513.8  315997   \n",
      "2     KILIFI             199764             2343               473.6  535526   \n",
      "3  TANARIVER              47414              626               383.5  119853   \n",
      "4       LAMU              22184              265               383.2   53045   \n",
      "\n",
      "   Female    Total  \n",
      "0  452446   939370  \n",
      "1  333934   649931  \n",
      "2  574209  1109735  \n",
      "3  120222   240075  \n",
      "4   48494   101539  \n"
     ]
    }
   ],
   "source": [
    "#get current working directory\n",
    "cwd = os.getcwd()\n",
    "\n",
    "#get file\n",
    "file = cwd + '/data_source/census_data.csv'\n",
    "data = pd.read_csv(file)\n",
    "\n",
    "print(data.head())"
   ]
  },
  {
   "cell_type": "code",
   "execution_count": 3,
   "metadata": {},
   "outputs": [
    {
     "name": "stdout",
     "output_type": "stream",
     "text": [
      "      County  No. of Households\n",
      "0    MOMBASA             268700\n",
      "1      KWALE             122047\n",
      "2     KILIFI             199764\n",
      "3  TANARIVER              47414\n",
      "4       LAMU              22184\n"
     ]
    }
   ],
   "source": [
    "#data subset\n",
    "subset = data[[\"County\",\"No. of Households\"]]\n",
    "print(subset.head())"
   ]
  },
  {
   "cell_type": "code",
   "execution_count": 4,
   "metadata": {},
   "outputs": [
    {
     "name": "stdout",
     "output_type": "stream",
     "text": [
      "          County  No. of Households  Area in Sq. Km.  Population Density  \\\n",
      "5   TAITA TAVETA              71090              971               293.2   \n",
      "6        GARISSA              98590              861               723.7   \n",
      "7          WAJIR              88574              815               812.2   \n",
      "8        MANDERA             125497             1038               988.2   \n",
      "9       MARSABIT              56941              653               445.9   \n",
      "10        ISIOLO              31326              397               360.9   \n",
      "11          MERU             319616             3196               424.4   \n",
      "12       THARAKA              88803             1102               331.5   \n",
      "13          EMBU             131683             1296               398.3   \n",
      "14         KITUI             205491             3587               282.3   \n",
      "15      MACHAKOS             264500             3052               360.0   \n",
      "16       MAKUENI             186478             2344               377.4   \n",
      "17     NYANDARUA             143879             1259               473.6   \n",
      "18         NYERI             201703             2077               333.9   \n",
      "19     KIRINYAGA             154220             1401               376.9   \n",
      "20       MURANGA             255696             2517               374.5   \n",
      "21        KIAMBU             469244             4946               328.2   \n",
      "22       TURKANA             123191             1520               562.8   \n",
      "23    WEST POKOT              93777             1407               364.4   \n",
      "24       SAMBURU              47354              542               413.2   \n",
      "25   TRANS-NZOIA             170117             1611               508.2   \n",
      "\n",
      "      Male  Female    Total  \n",
      "5   145334  139323   284657  \n",
      "6   334939  288121   623060  \n",
      "7   363766  298175   661941  \n",
      "8   559943  465813  1025756  \n",
      "9   151112  140054   291166  \n",
      "10   73694   69600   143294  \n",
      "11  670656  685645  1356301  \n",
      "12  178451  186879   365330  \n",
      "13  254303  261909   516212  \n",
      "14  481282  531427  1012709  \n",
      "15  543139  555445  1098584  \n",
      "16  430710  453817   884527  \n",
      "17  292155  304113   596268  \n",
      "18  339725  353833   693558  \n",
      "19  260630  267424   528054  \n",
      "20  457864  484717   942581  \n",
      "21  802609  820673  1623282  \n",
      "22  445069  410330   855399  \n",
      "23  254827  257863   512690  \n",
      "24  112007  111940   223947  \n",
      "25  407172  411585   818757  \n"
     ]
    }
   ],
   "source": [
    "#isolate rows\n",
    "print(data[5:26])"
   ]
  },
  {
   "cell_type": "code",
   "execution_count": 29,
   "metadata": {},
   "outputs": [
    {
     "name": "stdout",
     "output_type": "stream",
     "text": [
      "   County  No. of Households  Area in Sq. Km.  Population Density    Male  \\\n",
      "7   WAJIR              88574              815               812.2  363766   \n",
      "11   MERU             319616             3196               424.4  670656   \n",
      "\n",
      "    Female    Total  \n",
      "7   298175   661941  \n",
      "11  685645  1356301  \n"
     ]
    }
   ],
   "source": [
    "#Conditional filtering and or\n",
    "print(data[(data['Population Density'] == 812.2) | (data['Population Density'] == 424.4)])"
   ]
  },
  {
   "cell_type": "code",
   "execution_count": null,
   "metadata": {},
   "outputs": [],
   "source": []
  }
 ],
 "metadata": {
  "kernelspec": {
   "display_name": "Python 3",
   "language": "python",
   "name": "python3"
  },
  "language_info": {
   "codemirror_mode": {
    "name": "ipython",
    "version": 3
   },
   "file_extension": ".py",
   "mimetype": "text/x-python",
   "name": "python",
   "nbconvert_exporter": "python",
   "pygments_lexer": "ipython3",
   "version": "3.6.5"
  }
 },
 "nbformat": 4,
 "nbformat_minor": 2
}
