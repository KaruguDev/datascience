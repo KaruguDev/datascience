{
 "cells": [
  {
   "cell_type": "markdown",
   "metadata": {},
   "source": [
    "# Pandas\n",
    "## Handling data from external sources"
   ]
  },
  {
   "cell_type": "code",
   "execution_count": 1,
   "metadata": {},
   "outputs": [
    {
     "name": "stdout",
     "output_type": "stream",
     "text": [
      "      County   No. of Households   Area in Sq. Km.   Population Density  \\\n",
      "0    MOMBASA              268700              3079                305.1   \n",
      "1      KWALE              122047              1265                513.8   \n",
      "2     KILIFI              199764              2343                473.6   \n",
      "3  TANARIVER               47414               626                383.5   \n",
      "4       LAMU               22184               265                383.2   \n",
      "\n",
      "     Male   Female    Total  \n",
      "0  486924   452446   939370  \n",
      "1  315997   333934   649931  \n",
      "2  535526   574209  1109735  \n",
      "3  119853   120222   240075  \n",
      "4   53045    48494   101539  \n"
     ]
    }
   ],
   "source": [
    "import pandas as pd\n",
    "import os\n",
    "\n",
    "cwd = os.getcwd()\n",
    "\n",
    "#Read a CSV file\n",
    "file = cwd + '/data_source/census_data.csv'\n",
    "csv_df = pd.read_csv(file)\n",
    "\n",
    "print(csv_df.head())"
   ]
  },
  {
   "cell_type": "code",
   "execution_count": 2,
   "metadata": {},
   "outputs": [
    {
     "name": "stdout",
     "output_type": "stream",
     "text": [
      "      County   No. of Households   Area in Sq. Km.   Population Density  \\\n",
      "0    MOMBASA              268700              3079                305.1   \n",
      "1      KWALE              122047              1265                513.8   \n",
      "2     KILIFI              199764              2343                473.6   \n",
      "3  TANARIVER               47414               626                383.5   \n",
      "4       LAMU               22184               265                383.2   \n",
      "\n",
      "     Male   Female    Total  \n",
      "0  486924   452446   939370  \n",
      "1  315997   333934   649931  \n",
      "2  535526   574209  1109735  \n",
      "3  119853   120222   240075  \n",
      "4   53045    48494   101539  \n"
     ]
    }
   ],
   "source": [
    "#Reading CSV files who's separator is not a comma\n",
    "file2 = cwd + '/data_source/census_data_v2.csv'\n",
    "csv_df2 = pd.read_csv(file2, sep=';')\n",
    "print(csv_df2.head())"
   ]
  },
  {
   "cell_type": "code",
   "execution_count": 3,
   "metadata": {},
   "outputs": [
    {
     "name": "stdout",
     "output_type": "stream",
     "text": [
      "      County   No. of Households   Area in Sq. Km.   Population Density  \\\n",
      "0    MOMBASA              268700              3079                305.1   \n",
      "1      KWALE              122047              1265                513.8   \n",
      "2     KILIFI              199764              2343                473.6   \n",
      "3  TANARIVER               47414               626                383.5   \n",
      "4       LAMU               22184               265                383.2   \n",
      "\n",
      "     Male   Female    Total  \n",
      "0  486924   452446   939370  \n",
      "1  315997   333934   649931  \n",
      "2  535526   574209  1109735  \n",
      "3  119853   120222   240075  \n",
      "4   53045    48494   101539  \n"
     ]
    }
   ],
   "source": [
    "#Reading text files\n",
    "file3 = cwd + '/data_source/census_data_v3.txt'\n",
    "csv_df3 = pd.read_csv(file3, sep='\\t')\n",
    "print(csv_df3.head())"
   ]
  },
  {
   "cell_type": "code",
   "execution_count": 4,
   "metadata": {},
   "outputs": [
    {
     "name": "stdout",
     "output_type": "stream",
     "text": [
      "['nse', 'nse_2']\n",
      "                       stock   PREV    NOW       %     VOL Unnamed: 5\n",
      "0  Eveready East Africa Ltd.   1.00   1.10  10.00%    4400           \n",
      "1              Trans-Century   3.05   3.35   9.84%     100           \n",
      "2           Total Kenya Ltd.  27.75  30.00   8.11%    1400           \n",
      "3            Home Afrika Ltd   0.75   0.80   6.67%  356700           \n",
      "4        Britam Holdings Ltd  11.10  11.55   4.05%   13900           \n"
     ]
    }
   ],
   "source": [
    "#Reading Excel Files\n",
    "file4 = cwd + '/data_source/nse.xls'\n",
    "xls_file = pd.ExcelFile(file4)\n",
    "\n",
    "#print worksheet names\n",
    "print(xls_file.sheet_names)\n",
    "\n",
    "#Get data from worksheet \n",
    "xls_df = xls_file.parse('nse')\n",
    "print(xls_df.head())"
   ]
  },
  {
   "cell_type": "code",
   "execution_count": 5,
   "metadata": {},
   "outputs": [
    {
     "name": "stdout",
     "output_type": "stream",
     "text": [
      "     County   No. of Households   Area in Sq. Km.   Population Density  \\\n",
      "0   MOMBASA              268700              3079                305.1   \n",
      "1     KWALE              122047              1265                513.8   \n",
      "10   ISIOLO               31326               397                360.9   \n",
      "11     MERU              319616              3196                424.4   \n",
      "12  THARAKA               88803              1102                331.5   \n",
      "\n",
      "      Male   Female    Total  \n",
      "0   486924   452446   939370  \n",
      "1   315997   333934   649931  \n",
      "10   73694    69600   143294  \n",
      "11  670656   685645  1356301  \n",
      "12  178451   186879   365330  \n"
     ]
    }
   ],
   "source": [
    "#Reading Json Files\n",
    "file5 = cwd + '/data_source/sample.json'\n",
    "js_df = pd.read_json(file5)\n",
    "print(js_df.head())\n"
   ]
  },
  {
   "cell_type": "code",
   "execution_count": 6,
   "metadata": {},
   "outputs": [
    {
     "name": "stdout",
     "output_type": "stream",
     "text": [
      "      0                 1                2           3  \\\n",
      "0  Code            County  Former Province  Area (km2)   \n",
      "1     1  Mombasa (County)            Coast       212.5   \n",
      "2     2             Kwale            Coast      8270.3   \n",
      "3     3            Kilifi            Coast     12245.9   \n",
      "4     4        Tana River            Coast     35375.8   \n",
      "\n",
      "                         4               5  \n",
      "0  PopulationCensus (2009)         Capital  \n",
      "1                   939370  Mombasa (City)  \n",
      "2                   649931           Kwale  \n",
      "3                  1109735          Kilifi  \n",
      "4                   240075            Hola  \n"
     ]
    }
   ],
   "source": [
    "#Reading html \n",
    "import html5lib\n",
    "\n",
    "url = \"https://en.wikipedia.org/wiki/Counties_of_Kenya\"\n",
    "kc = pd.read_html(url) #creates a list of dataframes\n",
    "counties_of_kenya = kc[2]\n",
    "print(counties_of_kenya.head())"
   ]
  },
  {
   "cell_type": "code",
   "execution_count": 7,
   "metadata": {},
   "outputs": [
    {
     "name": "stdout",
     "output_type": "stream",
     "text": [
      "                                   0         1\n",
      "0  Key CBK Indicative Exchange Rates       NaN\n",
      "1                          US DOLLAR  100.9183\n",
      "2                          STG POUND  133.4681\n",
      "3                               EURO  116.7636\n",
      "4                            More...       NaN\n",
      "5              Posted On: 12-10-2018       NaN\n"
     ]
    }
   ],
   "source": [
    "url2 = \"https://www.centralbank.go.ke\"\n",
    "cbk = pd.read_html(url2)\n",
    "exchange_rates_cbk = cbk[9]\n",
    "print(exchange_rates_cbk)"
   ]
  },
  {
   "cell_type": "code",
   "execution_count": null,
   "metadata": {},
   "outputs": [],
   "source": []
  }
 ],
 "metadata": {
  "kernelspec": {
   "display_name": "Python 3",
   "language": "python",
   "name": "python3"
  },
  "language_info": {
   "codemirror_mode": {
    "name": "ipython",
    "version": 3
   },
   "file_extension": ".py",
   "mimetype": "text/x-python",
   "name": "python",
   "nbconvert_exporter": "python",
   "pygments_lexer": "ipython3",
   "version": "3.6.5"
  }
 },
 "nbformat": 4,
 "nbformat_minor": 2
}
