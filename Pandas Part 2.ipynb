{
 "cells": [
  {
   "cell_type": "markdown",
   "metadata": {},
   "source": [
    "# Pandas\n",
    "## Handling data from external sources"
   ]
  },
  {
   "cell_type": "code",
   "execution_count": 1,
   "metadata": {},
   "outputs": [
    {
     "name": "stdout",
     "output_type": "stream",
     "text": [
      "      County   No. of Households   Area in Sq. Km.   Population Density  \\\n",
      "0    MOMBASA              268700              3079                305.1   \n",
      "1      KWALE              122047              1265                513.8   \n",
      "2     KILIFI              199764              2343                473.6   \n",
      "3  TANARIVER               47414               626                383.5   \n",
      "4       LAMU               22184               265                383.2   \n",
      "\n",
      "     Male   Female    Total  \n",
      "0  486924   452446   939370  \n",
      "1  315997   333934   649931  \n",
      "2  535526   574209  1109735  \n",
      "3  119853   120222   240075  \n",
      "4   53045    48494   101539  \n"
     ]
    }
   ],
   "source": [
    "import pandas as pd\n",
    "import os\n",
    "\n",
    "cwd = os.getcwd()\n",
    "\n",
    "#Read a CSV file\n",
    "file = cwd + '/data_source/census_data.csv'\n",
    "csv_df = pd.read_csv(file)\n",
    "\n",
    "print(csv_df.head())"
   ]
  },
  {
   "cell_type": "code",
   "execution_count": 2,
   "metadata": {},
   "outputs": [
    {
     "name": "stdout",
     "output_type": "stream",
     "text": [
      "      County   No. of Households   Area in Sq. Km.   Population Density  \\\n",
      "0    MOMBASA              268700              3079                305.1   \n",
      "1      KWALE              122047              1265                513.8   \n",
      "2     KILIFI              199764              2343                473.6   \n",
      "3  TANARIVER               47414               626                383.5   \n",
      "4       LAMU               22184               265                383.2   \n",
      "\n",
      "     Male   Female    Total  \n",
      "0  486924   452446   939370  \n",
      "1  315997   333934   649931  \n",
      "2  535526   574209  1109735  \n",
      "3  119853   120222   240075  \n",
      "4   53045    48494   101539  \n"
     ]
    }
   ],
   "source": [
    "#Reading CSV files who's separator is not a comma\n",
    "file2 = cwd + '/data_source/census_data_v2.csv'\n",
    "csv_df2 = pd.read_csv(file2, sep=';')\n",
    "print(csv_df2.head())"
   ]
  },
  {
   "cell_type": "code",
   "execution_count": 3,
   "metadata": {},
   "outputs": [
    {
     "name": "stdout",
     "output_type": "stream",
     "text": [
      "      County   No. of Households   Area in Sq. Km.   Population Density  \\\n",
      "0    MOMBASA              268700              3079                305.1   \n",
      "1      KWALE              122047              1265                513.8   \n",
      "2     KILIFI              199764              2343                473.6   \n",
      "3  TANARIVER               47414               626                383.5   \n",
      "4       LAMU               22184               265                383.2   \n",
      "\n",
      "     Male   Female    Total  \n",
      "0  486924   452446   939370  \n",
      "1  315997   333934   649931  \n",
      "2  535526   574209  1109735  \n",
      "3  119853   120222   240075  \n",
      "4   53045    48494   101539  \n"
     ]
    }
   ],
   "source": [
    "#Reading text files\n",
    "file3 = cwd + '/data_source/census_data_v3.txt'\n",
    "csv_df3 = pd.read_csv(file3, sep='\\t')\n",
    "print(csv_df3.head())"
   ]
  },
  {
   "cell_type": "code",
   "execution_count": 4,
   "metadata": {},
   "outputs": [
    {
     "name": "stdout",
     "output_type": "stream",
     "text": [
      "['nse', 'nse_2']\n",
      "                       stock   PREV    NOW       %     VOL Unnamed: 5\n",
      "0  Eveready East Africa Ltd.   1.00   1.10  10.00%    4400           \n",
      "1              Trans-Century   3.05   3.35   9.84%     100           \n",
      "2           Total Kenya Ltd.  27.75  30.00   8.11%    1400           \n",
      "3            Home Afrika Ltd   0.75   0.80   6.67%  356700           \n",
      "4        Britam Holdings Ltd  11.10  11.55   4.05%   13900           \n"
     ]
    }
   ],
   "source": [
    "#Reading Excel Files\n",
    "file4 = cwd + '/data_source/nse.xls'\n",
    "xls_file = pd.ExcelFile(file4)\n",
    "\n",
    "#print worksheet names\n",
    "print(xls_file.sheet_names)\n",
    "\n",
    "#Get data from worksheet \n",
    "xls_df = xls_file.parse('nse')\n",
    "print(xls_df.head())"
   ]
  },
  {
   "cell_type": "code",
   "execution_count": 5,
   "metadata": {},
   "outputs": [
    {
     "name": "stdout",
     "output_type": "stream",
     "text": [
      "     County   No. of Households   Area in Sq. Km.   Population Density  \\\n",
      "0   MOMBASA              268700              3079                305.1   \n",
      "1     KWALE              122047              1265                513.8   \n",
      "10   ISIOLO               31326               397                360.9   \n",
      "11     MERU              319616              3196                424.4   \n",
      "12  THARAKA               88803              1102                331.5   \n",
      "\n",
      "      Male   Female    Total  \n",
      "0   486924   452446   939370  \n",
      "1   315997   333934   649931  \n",
      "10   73694    69600   143294  \n",
      "11  670656   685645  1356301  \n",
      "12  178451   186879   365330  \n"
     ]
    }
   ],
   "source": [
    "#Reading Json Files\n",
    "file5 = cwd + '/data_source/sample.json'\n",
    "js_df = pd.read_json(file5)\n",
    "print(js_df.head())\n"
   ]
  },
  {
   "cell_type": "code",
   "execution_count": 6,
   "metadata": {},
   "outputs": [
    {
     "ename": "ValueError",
     "evalue": "No tables found matching pattern '.+'",
     "output_type": "error",
     "traceback": [
      "\u001b[0;31m---------------------------------------------------------------------------\u001b[0m",
      "\u001b[0;31mValueError\u001b[0m                                Traceback (most recent call last)",
      "\u001b[0;32m<ipython-input-6-20833496dba7>\u001b[0m in \u001b[0;36m<module>\u001b[0;34m()\u001b[0m\n\u001b[1;32m      3\u001b[0m \u001b[0;34m\u001b[0m\u001b[0m\n\u001b[1;32m      4\u001b[0m \u001b[0murl\u001b[0m \u001b[0;34m=\u001b[0m \u001b[0;34m\"https://www.centralbank.go.ke/central-government-expenditure/\"\u001b[0m\u001b[0;34m\u001b[0m\u001b[0m\n\u001b[0;32m----> 5\u001b[0;31m \u001b[0mnse\u001b[0m \u001b[0;34m=\u001b[0m \u001b[0mpd\u001b[0m\u001b[0;34m.\u001b[0m\u001b[0mread_html\u001b[0m\u001b[0;34m(\u001b[0m\u001b[0murl\u001b[0m\u001b[0;34m)\u001b[0m \u001b[0;31m#creates a list of dataframes\u001b[0m\u001b[0;34m\u001b[0m\u001b[0m\n\u001b[0m\u001b[1;32m      6\u001b[0m \u001b[0mprint\u001b[0m\u001b[0;34m(\u001b[0m\u001b[0mnse\u001b[0m\u001b[0;34m)\u001b[0m\u001b[0;34m\u001b[0m\u001b[0m\n",
      "\u001b[0;32m~/anaconda3/lib/python3.6/site-packages/pandas/io/html.py\u001b[0m in \u001b[0;36mread_html\u001b[0;34m(io, match, flavor, header, index_col, skiprows, attrs, parse_dates, tupleize_cols, thousands, encoding, decimal, converters, na_values, keep_default_na, displayed_only)\u001b[0m\n\u001b[1;32m    985\u001b[0m                   \u001b[0mdecimal\u001b[0m\u001b[0;34m=\u001b[0m\u001b[0mdecimal\u001b[0m\u001b[0;34m,\u001b[0m \u001b[0mconverters\u001b[0m\u001b[0;34m=\u001b[0m\u001b[0mconverters\u001b[0m\u001b[0;34m,\u001b[0m \u001b[0mna_values\u001b[0m\u001b[0;34m=\u001b[0m\u001b[0mna_values\u001b[0m\u001b[0;34m,\u001b[0m\u001b[0;34m\u001b[0m\u001b[0m\n\u001b[1;32m    986\u001b[0m                   \u001b[0mkeep_default_na\u001b[0m\u001b[0;34m=\u001b[0m\u001b[0mkeep_default_na\u001b[0m\u001b[0;34m,\u001b[0m\u001b[0;34m\u001b[0m\u001b[0m\n\u001b[0;32m--> 987\u001b[0;31m                   displayed_only=displayed_only)\n\u001b[0m",
      "\u001b[0;32m~/anaconda3/lib/python3.6/site-packages/pandas/io/html.py\u001b[0m in \u001b[0;36m_parse\u001b[0;34m(flavor, io, match, attrs, encoding, displayed_only, **kwargs)\u001b[0m\n\u001b[1;32m    813\u001b[0m             \u001b[0;32mbreak\u001b[0m\u001b[0;34m\u001b[0m\u001b[0m\n\u001b[1;32m    814\u001b[0m     \u001b[0;32melse\u001b[0m\u001b[0;34m:\u001b[0m\u001b[0;34m\u001b[0m\u001b[0m\n\u001b[0;32m--> 815\u001b[0;31m         \u001b[0mraise_with_traceback\u001b[0m\u001b[0;34m(\u001b[0m\u001b[0mretained\u001b[0m\u001b[0;34m)\u001b[0m\u001b[0;34m\u001b[0m\u001b[0m\n\u001b[0m\u001b[1;32m    816\u001b[0m \u001b[0;34m\u001b[0m\u001b[0m\n\u001b[1;32m    817\u001b[0m     \u001b[0mret\u001b[0m \u001b[0;34m=\u001b[0m \u001b[0;34m[\u001b[0m\u001b[0;34m]\u001b[0m\u001b[0;34m\u001b[0m\u001b[0m\n",
      "\u001b[0;32m~/anaconda3/lib/python3.6/site-packages/pandas/compat/__init__.py\u001b[0m in \u001b[0;36mraise_with_traceback\u001b[0;34m(exc, traceback)\u001b[0m\n\u001b[1;32m    401\u001b[0m         \u001b[0;32mif\u001b[0m \u001b[0mtraceback\u001b[0m \u001b[0;34m==\u001b[0m \u001b[0mEllipsis\u001b[0m\u001b[0;34m:\u001b[0m\u001b[0;34m\u001b[0m\u001b[0m\n\u001b[1;32m    402\u001b[0m             \u001b[0m_\u001b[0m\u001b[0;34m,\u001b[0m \u001b[0m_\u001b[0m\u001b[0;34m,\u001b[0m \u001b[0mtraceback\u001b[0m \u001b[0;34m=\u001b[0m \u001b[0msys\u001b[0m\u001b[0;34m.\u001b[0m\u001b[0mexc_info\u001b[0m\u001b[0;34m(\u001b[0m\u001b[0;34m)\u001b[0m\u001b[0;34m\u001b[0m\u001b[0m\n\u001b[0;32m--> 403\u001b[0;31m         \u001b[0;32mraise\u001b[0m \u001b[0mexc\u001b[0m\u001b[0;34m.\u001b[0m\u001b[0mwith_traceback\u001b[0m\u001b[0;34m(\u001b[0m\u001b[0mtraceback\u001b[0m\u001b[0;34m)\u001b[0m\u001b[0;34m\u001b[0m\u001b[0m\n\u001b[0m\u001b[1;32m    404\u001b[0m \u001b[0;32melse\u001b[0m\u001b[0;34m:\u001b[0m\u001b[0;34m\u001b[0m\u001b[0m\n\u001b[1;32m    405\u001b[0m     \u001b[0;31m# this version of raise is a syntax error in Python 3\u001b[0m\u001b[0;34m\u001b[0m\u001b[0;34m\u001b[0m\u001b[0m\n",
      "\u001b[0;31mValueError\u001b[0m: No tables found matching pattern '.+'"
     ]
    }
   ],
   "source": [
    "#Reading html \n",
    "import html5lib\n",
    "\n",
    "url = \"https://www.centralbank.go.ke/central-government-expenditure/\"\n",
    "nse = pd.read_html(url) #creates a list of dataframes\n",
    "print(nse)"
   ]
  },
  {
   "cell_type": "code",
   "execution_count": null,
   "metadata": {},
   "outputs": [],
   "source": []
  }
 ],
 "metadata": {
  "kernelspec": {
   "display_name": "Python 3",
   "language": "python",
   "name": "python3"
  },
  "language_info": {
   "codemirror_mode": {
    "name": "ipython",
    "version": 3
   },
   "file_extension": ".py",
   "mimetype": "text/x-python",
   "name": "python",
   "nbconvert_exporter": "python",
   "pygments_lexer": "ipython3",
   "version": "3.6.5"
  }
 },
 "nbformat": 4,
 "nbformat_minor": 2
}
