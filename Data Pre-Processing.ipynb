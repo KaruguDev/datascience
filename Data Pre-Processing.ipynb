{
 "cells": [
  {
   "cell_type": "markdown",
   "metadata": {},
   "source": [
    "# Data Pre-Processing\n",
    "\n",
    "## Data Wrangling\n",
    "\n",
    "is the merging of different datasets"
   ]
  },
  {
   "cell_type": "code",
   "execution_count": 1,
   "metadata": {},
   "outputs": [],
   "source": [
    "import numpy as np\n",
    "import pandas as pd"
   ]
  },
  {
   "cell_type": "code",
   "execution_count": 2,
   "metadata": {},
   "outputs": [
    {
     "name": "stdout",
     "output_type": "stream",
     "text": [
      "     0    1    2\n",
      "0  NaN  5.0  6.0\n",
      "1  9.0  4.0  7.0\n",
      "2  0.0  4.0  2.0\n",
      "3  5.0  NaN  8.0\n",
      "4  NaN  NaN  NaN\n"
     ]
    }
   ],
   "source": [
    "#create a simple dataframe\n",
    "\n",
    "simp_df = pd.DataFrame([[np.nan, 5, 6], [9, 4, 7], [0, 4, 2], [5, np.nan, 8],[np.nan, np.nan, np.nan]])\n",
    "print(simp_df)"
   ]
  },
  {
   "cell_type": "code",
   "execution_count": 3,
   "metadata": {},
   "outputs": [
    {
     "name": "stdout",
     "output_type": "stream",
     "text": [
      "       0      1      2\n",
      "0   True  False  False\n",
      "1  False  False  False\n",
      "2  False  False  False\n",
      "3  False   True  False\n",
      "4   True   True   True\n"
     ]
    }
   ],
   "source": [
    "#check to see if simp_df contains NaN values\n",
    "print(simp_df.isnull())"
   ]
  },
  {
   "cell_type": "code",
   "execution_count": 4,
   "metadata": {},
   "outputs": [
    {
     "name": "stdout",
     "output_type": "stream",
     "text": [
      "     0    1    2\n",
      "1  9.0  4.0  7.0\n",
      "2  0.0  4.0  2.0\n"
     ]
    }
   ],
   "source": [
    "#remove rows with NaN values from simp_df\n",
    "print(simp_df.dropna())"
   ]
  },
  {
   "cell_type": "code",
   "execution_count": 5,
   "metadata": {},
   "outputs": [
    {
     "name": "stdout",
     "output_type": "stream",
     "text": [
      "Empty DataFrame\n",
      "Columns: []\n",
      "Index: [0, 1, 2, 3, 4]\n"
     ]
    }
   ],
   "source": [
    "#remove columns with NaN values from simp_df\n",
    "print(simp_df.dropna(axis=1))"
   ]
  },
  {
   "cell_type": "code",
   "execution_count": 6,
   "metadata": {},
   "outputs": [
    {
     "name": "stdout",
     "output_type": "stream",
     "text": [
      "     0    1    2\n",
      "0  NaN  5.0  6.0\n",
      "1  9.0  4.0  7.0\n",
      "2  0.0  4.0  2.0\n",
      "3  5.0  NaN  8.0\n",
      "4  NaN  NaN  NaN\n"
     ]
    }
   ],
   "source": [
    "#remove columns who have NaN values in all rows from simp_df\n",
    "print(simp_df.dropna(axis=1, how=\"all\")) "
   ]
  },
  {
   "cell_type": "code",
   "execution_count": 15,
   "metadata": {},
   "outputs": [
    {
     "name": "stdout",
     "output_type": "stream",
     "text": [
      "     0    1    2\n",
      "0  NaN  5.0  6.0\n",
      "1  9.0  4.0  7.0\n",
      "2  0.0  4.0  2.0\n",
      "3  5.0  NaN  8.0\n"
     ]
    }
   ],
   "source": [
    "#thresh parameter define minimum NaN values for one to keep a row or column\n",
    "print(simp_df.dropna(thresh=2))"
   ]
  },
  {
   "cell_type": "code",
   "execution_count": 16,
   "metadata": {},
   "outputs": [
    {
     "name": "stdout",
     "output_type": "stream",
     "text": [
      "     0    1    2\n",
      "0  0.0  5.0  6.0\n",
      "1  9.0  4.0  7.0\n",
      "2  0.0  4.0  2.0\n",
      "3  5.0  0.0  8.0\n",
      "4  0.0  0.0  0.0\n"
     ]
    }
   ],
   "source": [
    "#replace NaN values \n",
    "print(simp_df.fillna(0))"
   ]
  },
  {
   "cell_type": "code",
   "execution_count": 19,
   "metadata": {},
   "outputs": [
    {
     "name": "stdout",
     "output_type": "stream",
     "text": [
      "     0    1    2\n",
      "0  NaN  5.0  6.0\n",
      "1  9.0  4.0  7.0\n",
      "2  0.0  4.0  2.0\n",
      "3  5.0  4.0  8.0\n",
      "4  5.0  4.0  8.0\n"
     ]
    }
   ],
   "source": [
    "#increment in a forward manner\n",
    "print(simp_df.fillna(method=\"ffill\"))"
   ]
  },
  {
   "cell_type": "code",
   "execution_count": null,
   "metadata": {},
   "outputs": [],
   "source": [
    "#increment in a forward manner column wise\n",
    "print(simp_df.fillna(method=\"ffill\", axis=0))"
   ]
  },
  {
   "cell_type": "code",
   "execution_count": null,
   "metadata": {},
   "outputs": [],
   "source": [
    "#back fill propagate the next value backwards\n",
    "print(simp_df.fillna(method=\"bfill\"))"
   ]
  }
 ],
 "metadata": {
  "kernelspec": {
   "display_name": "Python 3",
   "language": "python",
   "name": "python3"
  },
  "language_info": {
   "codemirror_mode": {
    "name": "ipython",
    "version": 3
   },
   "file_extension": ".py",
   "mimetype": "text/x-python",
   "name": "python",
   "nbconvert_exporter": "python",
   "pygments_lexer": "ipython3",
   "version": "3.6.5"
  }
 },
 "nbformat": 4,
 "nbformat_minor": 2
}
