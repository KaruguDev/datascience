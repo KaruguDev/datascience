{
 "cells": [
  {
   "cell_type": "code",
   "execution_count": 1,
   "metadata": {},
   "outputs": [],
   "source": [
    "import numpy as np"
   ]
  },
  {
   "cell_type": "code",
   "execution_count": 2,
   "metadata": {},
   "outputs": [
    {
     "name": "stdout",
     "output_type": "stream",
     "text": [
      "[[1 9 1 3]\n",
      " [8 5 9 3]\n",
      " [5 6 8 0]\n",
      " [4 9 5 8]\n",
      " [2 2 9 0]]\n"
     ]
    }
   ],
   "source": [
    "narr = np.random.randint(10, size=(5,4))\n",
    "print(narr)"
   ]
  },
  {
   "cell_type": "markdown",
   "metadata": {},
   "source": [
    "## SUM"
   ]
  },
  {
   "cell_type": "code",
   "execution_count": 3,
   "metadata": {},
   "outputs": [
    {
     "name": "stdout",
     "output_type": "stream",
     "text": [
      "97\n"
     ]
    }
   ],
   "source": [
    "total_sum = narr.sum() #total sum of all rows and columns\n",
    "print(total_sum)"
   ]
  },
  {
   "cell_type": "code",
   "execution_count": 4,
   "metadata": {},
   "outputs": [
    {
     "name": "stdout",
     "output_type": "stream",
     "text": [
      "[20 31 32 14]\n"
     ]
    }
   ],
   "source": [
    "column_sum = narr.sum(axis=0) #sum per column\n",
    "print(column_sum)"
   ]
  },
  {
   "cell_type": "code",
   "execution_count": 5,
   "metadata": {},
   "outputs": [
    {
     "name": "stdout",
     "output_type": "stream",
     "text": [
      "[14 25 19 26 13]\n"
     ]
    }
   ],
   "source": [
    "row_sum = narr.sum(axis=1) #sum per row\n",
    "print(row_sum)"
   ]
  },
  {
   "cell_type": "markdown",
   "metadata": {},
   "source": [
    "## Mean and Median\n"
   ]
  },
  {
   "cell_type": "code",
   "execution_count": 6,
   "metadata": {},
   "outputs": [
    {
     "name": "stdout",
     "output_type": "stream",
     "text": [
      "[4.  6.2 6.4 2.8]\n",
      "[3.5  6.25 4.75 6.5  3.25]\n"
     ]
    }
   ],
   "source": [
    "col_mean = narr.mean(axis=0)\n",
    "print(col_mean)\n",
    "\n",
    "row_mean = narr.mean(axis=1)\n",
    "print(row_mean)"
   ]
  },
  {
   "cell_type": "code",
   "execution_count": 8,
   "metadata": {},
   "outputs": [
    {
     "name": "stdout",
     "output_type": "stream",
     "text": [
      "[4. 6. 8. 3.]\n",
      "[2.  6.5 5.5 6.5 2. ]\n"
     ]
    }
   ],
   "source": [
    "col_med = np.median(narr,axis=0)\n",
    "print(col_med)\n",
    "\n",
    "row_med = np.median(narr,axis=1)\n",
    "print(row_med)"
   ]
  },
  {
   "cell_type": "markdown",
   "metadata": {},
   "source": [
    "## Standard Deviation and Variance"
   ]
  },
  {
   "cell_type": "code",
   "execution_count": 9,
   "metadata": {},
   "outputs": [
    {
     "name": "stdout",
     "output_type": "stream",
     "text": [
      "[2.44948974 2.63818119 3.0724583  2.92574777]\n",
      "[3.27871926 2.384848   2.94745653 2.06155281 3.41869858]\n",
      "[6.   6.96 9.44 8.56]\n",
      "[10.75    5.6875  8.6875  4.25   11.6875]\n"
     ]
    }
   ],
   "source": [
    "col_std = np.std(narr, axis=0)\n",
    "print(col_std)\n",
    "\n",
    "row_std = np.std(narr, axis=1)\n",
    "print(row_std)\n",
    "\n",
    "col_var = np.var(narr, axis=0)\n",
    "print(col_var)\n",
    "\n",
    "row_var = np.var(narr, axis=1)\n",
    "print(row_var)"
   ]
  },
  {
   "cell_type": "code",
   "execution_count": null,
   "metadata": {},
   "outputs": [],
   "source": []
  }
 ],
 "metadata": {
  "kernelspec": {
   "display_name": "Python 3",
   "language": "python",
   "name": "python3"
  },
  "language_info": {
   "codemirror_mode": {
    "name": "ipython",
    "version": 3
   },
   "file_extension": ".py",
   "mimetype": "text/x-python",
   "name": "python",
   "nbconvert_exporter": "python",
   "pygments_lexer": "ipython3",
   "version": "3.6.5"
  }
 },
 "nbformat": 4,
 "nbformat_minor": 2
}
