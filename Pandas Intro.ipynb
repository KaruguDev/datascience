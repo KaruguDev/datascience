{
 "cells": [
  {
   "cell_type": "markdown",
   "metadata": {},
   "source": [
    "# Pandas\n",
    "\n",
    "Series is 1D while DataFrame is 2D Tabular \n",
    "\n",
    "## Pandas Series"
   ]
  },
  {
   "cell_type": "code",
   "execution_count": 1,
   "metadata": {},
   "outputs": [],
   "source": [
    "import pandas as pd\n",
    "import numpy as np"
   ]
  },
  {
   "cell_type": "code",
   "execution_count": 2,
   "metadata": {},
   "outputs": [
    {
     "name": "stdout",
     "output_type": "stream",
     "text": [
      "paul        1\n",
      "ken        10\n",
      "ryu         5\n",
      "gronk      23\n",
      "gunjack    57\n",
      "dtype: int64\n"
     ]
    }
   ],
   "source": [
    "arr1 = [1,10,5,23,57]\n",
    "arr2 = ['paul', 'ken', 'ryu', 'gronk', 'gunjack']\n",
    "\n",
    "oneD = pd.Series(arr1, arr2)\n",
    "print(oneD)"
   ]
  },
  {
   "cell_type": "markdown",
   "metadata": {},
   "source": [
    "### Filtering data by rows"
   ]
  },
  {
   "cell_type": "code",
   "execution_count": 3,
   "metadata": {},
   "outputs": [
    {
     "name": "stdout",
     "output_type": "stream",
     "text": [
      "paul     1\n",
      "ken     10\n",
      "dtype: int64\n"
     ]
    }
   ],
   "source": [
    "# Example 1\n",
    "print(oneD[0:2])"
   ]
  },
  {
   "cell_type": "code",
   "execution_count": 4,
   "metadata": {},
   "outputs": [
    {
     "name": "stdout",
     "output_type": "stream",
     "text": [
      "ken    10\n",
      "ryu     5\n",
      "dtype: int64\n"
     ]
    }
   ],
   "source": [
    "# Example 2\n",
    "print(oneD[[1,2]])"
   ]
  },
  {
   "cell_type": "code",
   "execution_count": 5,
   "metadata": {},
   "outputs": [
    {
     "name": "stdout",
     "output_type": "stream",
     "text": [
      "gunjack    57\n",
      "dtype: int64\n"
     ]
    }
   ],
   "source": [
    "# Example 3\n",
    "print(oneD.loc[['gunjack']]) #label location based"
   ]
  },
  {
   "cell_type": "code",
   "execution_count": 6,
   "metadata": {},
   "outputs": [
    {
     "name": "stdout",
     "output_type": "stream",
     "text": [
      "gronk    23\n",
      "dtype: int64\n"
     ]
    }
   ],
   "source": [
    "# Example 4\n",
    "print(oneD.iloc[[3]]) #index-location based"
   ]
  },
  {
   "cell_type": "markdown",
   "metadata": {},
   "source": [
    "### Filtering data and get value"
   ]
  },
  {
   "cell_type": "code",
   "execution_count": 7,
   "metadata": {},
   "outputs": [
    {
     "name": "stdout",
     "output_type": "stream",
     "text": [
      "5\n"
     ]
    }
   ],
   "source": [
    "print(oneD.iloc[2])"
   ]
  },
  {
   "cell_type": "markdown",
   "metadata": {},
   "source": [
    "## Pandas DataFrame"
   ]
  },
  {
   "cell_type": "code",
   "execution_count": 8,
   "metadata": {},
   "outputs": [
    {
     "name": "stdout",
     "output_type": "stream",
     "text": [
      "        fruit  qty\n",
      "0      apples   10\n",
      "1     mangoes   50\n",
      "2       pears   30\n",
      "3  pineapples   23\n",
      "4     oranges   49\n"
     ]
    }
   ],
   "source": [
    "arr1 = ['apples', 'mangoes', 'pears', 'pineapples', 'oranges']\n",
    "arr2 = [10, 50, 30, 23, 49]\n",
    "dict1 = {'fruit':arr1, 'qty':arr2}\n",
    "\n",
    "df = pd.DataFrame(dict1)\n",
    "print(df)"
   ]
  },
  {
   "cell_type": "code",
   "execution_count": 9,
   "metadata": {},
   "outputs": [
    {
     "name": "stdout",
     "output_type": "stream",
     "text": [
      "            qty\n",
      "fruit          \n",
      "apples       10\n",
      "mangoes      50\n",
      "pears        30\n",
      "pineapples   23\n",
      "oranges      49\n"
     ]
    }
   ],
   "source": [
    "#set index\n",
    "df = df.set_index('fruit')\n",
    "print(df)"
   ]
  },
  {
   "cell_type": "code",
   "execution_count": 10,
   "metadata": {},
   "outputs": [
    {
     "name": "stdout",
     "output_type": "stream",
     "text": [
      "            qty    sales\n",
      "fruit                   \n",
      "apples       10   2000.0\n",
      "mangoes      50      NaN\n",
      "pears        30   7500.0\n",
      "pineapples   23  25000.0\n",
      "oranges      49   4000.0\n"
     ]
    }
   ],
   "source": [
    "#add column and data from another dataframe with similar index\n",
    "arr3 = [2000, 4000, 25000, 7500, 16000]\n",
    "arr4 = ['apples', 'oranges', 'pineapples', 'pears', 'tangerines']\n",
    "dict2 = {'sales':arr3, }\n",
    "\n",
    "df2 = pd.DataFrame(dict2, index=arr4)\n",
    "df = df.join(df2)\n",
    "print(df)\n",
    "\n",
    "#NB Tangerines was left out since it is not found in df index column "
   ]
  },
  {
   "cell_type": "code",
   "execution_count": 11,
   "metadata": {},
   "outputs": [
    {
     "name": "stdout",
     "output_type": "stream",
     "text": [
      "         qty   sales\n",
      "apples    10  2000.0\n",
      "mangoes   50     NaN\n"
     ]
    }
   ],
   "source": [
    "#filtering columns and index i want to retain\n",
    "fil_df = pd.DataFrame(df, index=['apples', 'mangoes'], columns=['qty', 'sales'])\n",
    "print(fil_df)"
   ]
  },
  {
   "cell_type": "code",
   "execution_count": null,
   "metadata": {},
   "outputs": [],
   "source": []
  }
 ],
 "metadata": {
  "kernelspec": {
   "display_name": "Python 3",
   "language": "python",
   "name": "python3"
  },
  "language_info": {
   "codemirror_mode": {
    "name": "ipython",
    "version": 3
   },
   "file_extension": ".py",
   "mimetype": "text/x-python",
   "name": "python",
   "nbconvert_exporter": "python",
   "pygments_lexer": "ipython3",
   "version": "3.6.5"
  }
 },
 "nbformat": 4,
 "nbformat_minor": 2
}
