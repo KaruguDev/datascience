{
 "cells": [
  {
   "cell_type": "code",
   "execution_count": 1,
   "metadata": {},
   "outputs": [],
   "source": [
    "import numpy as np\n",
    "import pandas as pd\n",
    "import os"
   ]
  },
  {
   "cell_type": "code",
   "execution_count": 2,
   "metadata": {},
   "outputs": [
    {
     "name": "stdout",
     "output_type": "stream",
     "text": [
      "      County  No. of Households  Area in Sq. Km.  Population Density    Male  \\\n",
      "0    MOMBASA             268700             3079               305.1  486924   \n",
      "1      KWALE             122047             1265               513.8  315997   \n",
      "2     KILIFI             199764             2343               473.6  535526   \n",
      "3  TANARIVER              47414              626               383.5  119853   \n",
      "4       LAMU              22184              265               383.2   53045   \n",
      "\n",
      "   Female    Total  \n",
      "0  452446   939370  \n",
      "1  333934   649931  \n",
      "2  574209  1109735  \n",
      "3  120222   240075  \n",
      "4   48494   101539  \n",
      "      County  No. of Households  Area in Sq. Km.  Population Density    Male  \\\n",
      "0    MOMBASA             268700             3079               305.1  486924   \n",
      "1      KWALE             122047             1265               513.8  315997   \n",
      "2     KILIFI             199764             2343               473.6  535526   \n",
      "3  TANARIVER              47414              626               383.5  119853   \n",
      "4       LAMU              22184              265               383.2   53045   \n",
      "\n",
      "   Female    Total  \n",
      "0  452446   939370  \n",
      "1  333934   649931  \n",
      "2  574209  1109735  \n",
      "3  120222   240075  \n",
      "4   48494   101539  \n"
     ]
    }
   ],
   "source": [
    "#get current working directory\n",
    "cwd = os.getcwd()\n",
    "\n",
    "#get file\n",
    "file = cwd + '/data_source/census_data.csv'\n",
    "data = pd.read_csv(file)\n",
    "\n",
    "print(data.head())\n",
    "\n",
    "#get file2\n",
    "file2 = cwd + '/data_source/fruits.csv'\n",
    "data2 = pd.read_csv(file2)\n",
    "\n",
    "print(data2.head())"
   ]
  },
  {
   "cell_type": "code",
   "execution_count": 3,
   "metadata": {},
   "outputs": [
    {
     "name": "stdout",
     "output_type": "stream",
     "text": [
      "      County  No. of Households\n",
      "0    MOMBASA             268700\n",
      "1      KWALE             122047\n",
      "2     KILIFI             199764\n",
      "3  TANARIVER              47414\n",
      "4       LAMU              22184\n"
     ]
    }
   ],
   "source": [
    "#data subset\n",
    "subset = data[[\"County\",\"No. of Households\"]]\n",
    "print(subset.head())"
   ]
  },
  {
   "cell_type": "code",
   "execution_count": 4,
   "metadata": {},
   "outputs": [
    {
     "name": "stdout",
     "output_type": "stream",
     "text": [
      "          County  No. of Households  Area in Sq. Km.  Population Density  \\\n",
      "5   TAITA TAVETA              71090              971               293.2   \n",
      "6        GARISSA              98590              861               723.7   \n",
      "7          WAJIR              88574              815               812.2   \n",
      "8        MANDERA             125497             1038               988.2   \n",
      "9       MARSABIT              56941              653               445.9   \n",
      "10        ISIOLO              31326              397               360.9   \n",
      "11          MERU             319616             3196               424.4   \n",
      "12       THARAKA              88803             1102               331.5   \n",
      "13          EMBU             131683             1296               398.3   \n",
      "14         KITUI             205491             3587               282.3   \n",
      "15      MACHAKOS             264500             3052               360.0   \n",
      "16       MAKUENI             186478             2344               377.4   \n",
      "17     NYANDARUA             143879             1259               473.6   \n",
      "18         NYERI             201703             2077               333.9   \n",
      "19     KIRINYAGA             154220             1401               376.9   \n",
      "20       MURANGA             255696             2517               374.5   \n",
      "21        KIAMBU             469244             4946               328.2   \n",
      "22       TURKANA             123191             1520               562.8   \n",
      "23    WEST POKOT              93777             1407               364.4   \n",
      "24       SAMBURU              47354              542               413.2   \n",
      "25   TRANS-NZOIA             170117             1611               508.2   \n",
      "\n",
      "      Male  Female    Total  \n",
      "5   145334  139323   284657  \n",
      "6   334939  288121   623060  \n",
      "7   363766  298175   661941  \n",
      "8   559943  465813  1025756  \n",
      "9   151112  140054   291166  \n",
      "10   73694   69600   143294  \n",
      "11  670656  685645  1356301  \n",
      "12  178451  186879   365330  \n",
      "13  254303  261909   516212  \n",
      "14  481282  531427  1012709  \n",
      "15  543139  555445  1098584  \n",
      "16  430710  453817   884527  \n",
      "17  292155  304113   596268  \n",
      "18  339725  353833   693558  \n",
      "19  260630  267424   528054  \n",
      "20  457864  484717   942581  \n",
      "21  802609  820673  1623282  \n",
      "22  445069  410330   855399  \n",
      "23  254827  257863   512690  \n",
      "24  112007  111940   223947  \n",
      "25  407172  411585   818757  \n"
     ]
    }
   ],
   "source": [
    "#isolate rows\n",
    "print(data[5:26])"
   ]
  },
  {
   "cell_type": "markdown",
   "metadata": {},
   "source": [
    "## Conditional filtering (and, or)"
   ]
  },
  {
   "cell_type": "code",
   "execution_count": 5,
   "metadata": {},
   "outputs": [
    {
     "name": "stdout",
     "output_type": "stream",
     "text": [
      "   County  No. of Households  Area in Sq. Km.  Population Density    Male  \\\n",
      "7   WAJIR              88574              815               812.2  363766   \n",
      "11   MERU             319616             3196               424.4  670656   \n",
      "\n",
      "    Female    Total  \n",
      "7   298175   661941  \n",
      "11  685645  1356301  \n"
     ]
    }
   ],
   "source": [
    "\n",
    "print(data[(data['Population Density'] == 812.2) | (data['Population Density'] == 424.4)]) #or\n"
   ]
  },
  {
   "cell_type": "code",
   "execution_count": 6,
   "metadata": {},
   "outputs": [
    {
     "name": "stdout",
     "output_type": "stream",
     "text": [
      "  County  No. of Households  Area in Sq. Km.  Population Density    Male  \\\n",
      "7  WAJIR              88574              815               812.2  363766   \n",
      "\n",
      "   Female   Total  \n",
      "7  298175  661941  \n"
     ]
    }
   ],
   "source": [
    "print(data[(data['Population Density'] == 812.2) & (data['Male'] >= 36000)]) #and"
   ]
  },
  {
   "cell_type": "markdown",
   "metadata": {},
   "source": [
    "## Drop column or row"
   ]
  },
  {
   "cell_type": "code",
   "execution_count": 7,
   "metadata": {},
   "outputs": [
    {
     "data": {
      "text/plain": [
       "pandas.core.frame.DataFrame"
      ]
     },
     "execution_count": 7,
     "metadata": {},
     "output_type": "execute_result"
    }
   ],
   "source": [
    "#ensure it is indeed type is a dataframe\n",
    "df = pd.DataFrame(data)\n",
    "type(df)"
   ]
  },
  {
   "cell_type": "code",
   "execution_count": 8,
   "metadata": {},
   "outputs": [
    {
     "name": "stdout",
     "output_type": "stream",
     "text": [
      "      County  No. of Households  Area in Sq. Km.  Population Density    Male  \\\n",
      "6    GARISSA              98590              861               723.7  334939   \n",
      "7      WAJIR              88574              815               812.2  363766   \n",
      "8    MANDERA             125497             1038               988.2  559943   \n",
      "9   MARSABIT              56941              653               445.9  151112   \n",
      "10    ISIOLO              31326              397               360.9   73694   \n",
      "\n",
      "    Female    Total  \n",
      "6   288121   623060  \n",
      "7   298175   661941  \n",
      "8   465813  1025756  \n",
      "9   140054   291166  \n",
      "10   69600   143294  \n"
     ]
    }
   ],
   "source": [
    "df.drop(df.index[0], inplace=True) #drop first row\n",
    "df.drop(df.index[:5], inplace=True) #drop first five rows\n",
    "\n",
    "print(df.head())"
   ]
  },
  {
   "cell_type": "code",
   "execution_count": 9,
   "metadata": {},
   "outputs": [
    {
     "name": "stdout",
     "output_type": "stream",
     "text": [
      "      County  Population Density    Male  Female    Total\n",
      "6    GARISSA               723.7  334939  288121   623060\n",
      "7      WAJIR               812.2  363766  298175   661941\n",
      "8    MANDERA               988.2  559943  465813  1025756\n",
      "9   MARSABIT               445.9  151112  140054   291166\n",
      "10    ISIOLO               360.9   73694   69600   143294\n"
     ]
    }
   ],
   "source": [
    "df.drop(['Area in Sq. Km.', 'No. of Households'], axis=1, inplace=True) #drop a or multiple column\n",
    "print(df.head())"
   ]
  },
  {
   "cell_type": "markdown",
   "metadata": {},
   "source": [
    "## Indexing and Subsetting"
   ]
  },
  {
   "cell_type": "code",
   "execution_count": 10,
   "metadata": {},
   "outputs": [],
   "source": [
    "above_or_20 = data[20:] #select from row 20 onwards\n",
    "even_index = data[::2] #select entries whose index is even\n",
    "row_col_slice_iloc = data.iloc[0:10, 1:4] #row and column slicing using iloc - index location\n",
    "row_col_slice_loc = data.loc[[0,5,10], ['County','Population Density','Male', 'Female','Total']] #row and column slicing using loc - name location\n",
    "\n",
    "#print(above_or_20.head())\n",
    "#print(even_index.head())\n",
    "#print(data.head())\n",
    "#print(row_col_slice_iloc.head())\n",
    "#print(row_col_slice_loc.head())"
   ]
  },
  {
   "cell_type": "code",
   "execution_count": 11,
   "metadata": {},
   "outputs": [
    {
     "name": "stdout",
     "output_type": "stream",
     "text": [
      "         County    Male  Female    Total\n",
      "5  TAITA TAVETA  145334  139323   284657\n",
      "6       GARISSA  334939  288121   623060\n",
      "7         WAJIR  363766  298175   661941\n",
      "8       MANDERA  559943  465813  1025756\n",
      "9      MARSABIT  151112  140054   291166\n",
      "             County  No. of Households  Area in Sq. Km.  Population Density  \\\n",
      "10           ISIOLO              31326              397               360.9   \n",
      "11             MERU             319616             3196               424.4   \n",
      "12          THARAKA              88803             1102               331.5   \n",
      "13             EMBU             131683             1296               398.3   \n",
      "14            KITUI             205491             3587               282.3   \n",
      "15         MACHAKOS             264500             3052               360.0   \n",
      "16          MAKUENI             186478             2344               377.4   \n",
      "17        NYANDARUA             143879             1259               473.6   \n",
      "18            NYERI             201703             2077               333.9   \n",
      "19        KIRINYAGA             154220             1401               376.9   \n",
      "20          MURANGA             255696             2517               374.5   \n",
      "21           KIAMBU             469244             4946               328.2   \n",
      "22          TURKANA             123191             1520               562.8   \n",
      "23       WEST POKOT              93777             1407               364.4   \n",
      "24          SAMBURU              47354              542               413.2   \n",
      "25      TRANS-NZOIA             170117             1611               508.2   \n",
      "26      UASIN GISHU             202291             2112               423.4   \n",
      "27  ELGIYO MARAKWET              77555             1107               334.2   \n",
      "28            NANDI             154073             1777               423.7   \n",
      "29          BARINGO             110649             1970               282.0   \n",
      "30         LAIKIPIA             103114             1023               390.3   \n",
      "31           NAKURU             409836             4650               344.8   \n",
      "32            NAROK             169220             1852               459.5   \n",
      "33          KAJIADO             173464             1105               351.6   \n",
      "34            BOMET             142361             1630               444.3   \n",
      "35          KERICHO             160134             1886               402.1   \n",
      "36         KAKAMEGA             355679             3343               496.8   \n",
      "37           VIHIGA             123347             1271               436.4   \n",
      "38          BUNGOMA             321628             3123               522.2   \n",
      "39            BUSIA             103421             1171               416.8   \n",
      "\n",
      "      Male  Female    Total  \n",
      "10   73694   69600   143294  \n",
      "11  670656  685645  1356301  \n",
      "12  178451  186879   365330  \n",
      "13  254303  261909   516212  \n",
      "14  481282  531427  1012709  \n",
      "15  543139  555445  1098584  \n",
      "16  430710  453817   884527  \n",
      "17  292155  304113   596268  \n",
      "18  339725  353833   693558  \n",
      "19  260630  267424   528054  \n",
      "20  457864  484717   942581  \n",
      "21  802609  820673  1623282  \n",
      "22  445069  410330   855399  \n",
      "23  254827  257863   512690  \n",
      "24  112007  111940   223947  \n",
      "25  407172  411585   818757  \n",
      "26  448994  445185   894179  \n",
      "27  183738  186260   369998  \n",
      "28  376488  376477   752965  \n",
      "29  279081  276480   555561  \n",
      "30  198625  200602   399227  \n",
      "31  804582  798743  1603325  \n",
      "32  429026  421894   850920  \n",
      "33  345146  342166   687312  \n",
      "34  359727  364459   724186  \n",
      "35  381980  376359   758339  \n",
      "36  800989  859662  1660651  \n",
      "37  262716  291906   554622  \n",
      "38  710510  835339  1630934  \n",
      "39  232075  256000   488075  \n",
      "         County  No. of Households  Area in Sq. Km.  Population Density  \\\n",
      "0       MOMBASA             268700             3079               305.1   \n",
      "1         KWALE             122047             1265               513.8   \n",
      "2        KILIFI             199764             2343               473.6   \n",
      "3     TANARIVER              47414              626               383.5   \n",
      "4          LAMU              22184              265               383.2   \n",
      "5  TAITA TAVETA              71090              971               293.2   \n",
      "6       GARISSA              98590              861               723.7   \n",
      "7         WAJIR              88574              815               812.2   \n",
      "8       MANDERA             125497             1038               988.2   \n",
      "9      MARSABIT              56941              653               445.9   \n",
      "\n",
      "     Male  Female    Total  \n",
      "0  486924  452446   939370  \n",
      "1  315997  333934   649931  \n",
      "2  535526  574209  1109735  \n",
      "3  119853  120222   240075  \n",
      "4   53045   48494   101539  \n",
      "5  145334  139323   284657  \n",
      "6  334939  288121   623060  \n",
      "7  363766  298175   661941  \n",
      "8  559943  465813  1025756  \n",
      "9  151112  140054   291166  \n"
     ]
    }
   ],
   "source": [
    "subset_1 = data[['County', 'Male', 'Female', 'Total']][5:10]\n",
    "subset_2 = data[10:40]\n",
    "subset_3 = data.head(10)\n",
    "print(subset_1)\n",
    "print(subset_2)\n",
    "print(subset_3)"
   ]
  }
 ],
 "metadata": {
  "kernelspec": {
   "display_name": "Python 3",
   "language": "python",
   "name": "python3"
  },
  "language_info": {
   "codemirror_mode": {
    "name": "ipython",
    "version": 3
   },
   "file_extension": ".py",
   "mimetype": "text/x-python",
   "name": "python",
   "nbconvert_exporter": "python",
   "pygments_lexer": "ipython3",
   "version": "3.6.5"
  }
 },
 "nbformat": 4,
 "nbformat_minor": 2
}
